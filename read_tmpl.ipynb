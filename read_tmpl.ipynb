{
 "cells": [
  {
   "cell_type": "code",
   "execution_count": 0,
   "metadata": {
    "application/vnd.databricks.v1+cell": {
     "cellMetadata": {},
     "inputWidgets": {},
     "nuid": "3804adbc-9f09-4115-aa85-3d557ee29477",
     "showTitle": false,
     "tableResultSettingsMap": {},
     "title": ""
    }
   },
   "outputs": [],
   "source": [
    "import json\n",
    "import re\n",
    "\n",
    "def convert_tmpl_to_ipynb(tmpl_file_path, ipynb_file_path):\n",
    "    # Read the .tmpl file\n",
    "    with open(tmpl_file_path, 'r') as tmpl_file:\n",
    "        tmpl_content = tmpl_file.read()\n",
    "\n",
    "    # Convert Jinja template to Python code\n",
    "    # Step 1: Replace Jinja templating with dynamic values (for now, we'll just replace with placeholders)\n",
    "    tmpl_content = re.sub(r'{{\\s*template\\s`(.*?)`\\s.*?}}', r'{{ \\1 }}', tmpl_content)  # Handle Jinja template expressions\n",
    "    tmpl_content = re.sub(r'{{\\s*if\\s(.*?)\\s}}', r'if \\1:', tmpl_content)  # Handle Jinja if conditions\n",
    "    tmpl_content = re.sub(r'{{\\s*else\\s}}', r'else:', tmpl_content)  # Handle Jinja else\n",
    "    tmpl_content = re.sub(r'{{\\s*end\\s-?}}', r'', tmpl_content)  # Handle Jinja end\n",
    "\n",
    "    # Step 2: Create Jupyter notebook structure (JSON format)\n",
    "    notebook = {\n",
    "        \"cells\": [],\n",
    "        \"metadata\": {\n",
    "            \"kernelspec\": {\n",
    "                \"display_name\": \"Python 3\",\n",
    "                \"language\": \"python\",\n",
    "                \"name\": \"python3\"\n",
    "            },\n",
    "            \"language_info\": {\n",
    "                \"codemirror_mode\": {\n",
    "                    \"name\": \"ipython\",\n",
    "                    \"version\": 3\n",
    "                },\n",
    "                \"file_extension\": \".py\",\n",
    "                \"mimetype\": \"text/x-python\",\n",
    "                \"name\": \"python\",\n",
    "                \"nbconvert_exporter\": \"python\",\n",
    "                \"version\": \"3.8.5\"\n",
    "            }\n",
    "        },\n",
    "        \"nbformat\": 4,\n",
    "        \"nbformat_minor\": 5\n",
    "    }\n",
    "\n",
    "    # Step 3: Split the file into markdown and code blocks based on notebook sections\n",
    "    sections = tmpl_content.split(\"# COMMAND ----------\")\n",
    "    for section in sections:\n",
    "        if section.startswith(\"# DBTITLE\") or section.startswith(\"# MAGIC\"):\n",
    "            # It's a markdown section (if it starts with \"# DBTITLE\" or \"# MAGIC\")\n",
    "            notebook['cells'].append({\n",
    "                \"cell_type\": \"markdown\",\n",
    "                \"metadata\": {},\n",
    "                \"source\": [section.replace(\"# MAGIC \", \"\").strip()]\n",
    "            })\n",
    "        else:\n",
    "            # Otherwise, it's a code section\n",
    "            notebook['cells'].append({\n",
    "                \"cell_type\": \"code\",\n",
    "                \"execution_count\": None,\n",
    "                \"metadata\": {},\n",
    "                \"outputs\": [],\n",
    "                \"source\": [section.strip()]\n",
    "            })\n",
    "\n",
    "    # Step 4: Write the notebook as a .ipynb file\n",
    "    with open(ipynb_file_path, 'w') as ipynb_file:\n",
    "        json.dump(notebook, ipynb_file, indent=4)\n",
    "\n",
    "    print(f\"Notebook has been saved as {ipynb_file_path}\")\n",
    "\n",
    "# Example usage:\n",
    "tmpl_file_path = 'Train.py.tmpl'  # Path to your .tmpl file\n",
    "ipynb_file_path = 'train_test.ipynb'  # Path where the .ipynb will be saved\n",
    "\n",
    "convert_tmpl_to_ipynb(tmpl_file_path, ipynb_file_path)"
   ]
  }
 ],
 "metadata": {
  "application/vnd.databricks.v1+notebook": {
   "computePreferences": null,
   "dashboards": [],
   "environmentMetadata": {
    "base_environment": "",
    "environment_version": "2"
   },
   "language": "python",
   "notebookMetadata": {
    "pythonIndentUnit": 4
   },
   "notebookName": "read_tmpl",
   "widgets": {}
  },
  "language_info": {
   "name": "python"
  }
 },
 "nbformat": 4,
 "nbformat_minor": 0
}
