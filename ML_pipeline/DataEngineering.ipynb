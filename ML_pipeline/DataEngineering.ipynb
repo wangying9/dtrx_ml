{
 "cells": [
  {
   "cell_type": "markdown",
   "metadata": {
    "application/vnd.databricks.v1+cell": {
     "cellMetadata": {},
     "inputWidgets": {},
     "nuid": "bff1860c-b46f-4c5d-8bb0-ddb94a97998f",
     "showTitle": false,
     "tableResultSettingsMap": {},
     "title": ""
    }
   },
   "source": [
    "## Check and read data from volume"
   ]
  },
  {
   "cell_type": "markdown",
   "metadata": {
    "application/vnd.databricks.v1+cell": {
     "cellMetadata": {},
     "inputWidgets": {},
     "nuid": "75ee2898-1b63-4158-8ebe-8b03d2041ad6",
     "showTitle": false,
     "tableResultSettingsMap": {},
     "title": ""
    }
   },
   "source": [
    "Prerequisites:\n",
    "1. three data set are created in a volume in my catalog and my schema"
   ]
  },
  {
   "cell_type": "code",
   "execution_count": 0,
   "metadata": {
    "application/vnd.databricks.v1+cell": {
     "cellMetadata": {
      "byteLimit": 2048000,
      "rowLimit": 10000
     },
     "inputWidgets": {},
     "nuid": "c03b0f6c-4976-4d98-ba31-956da9369ca2",
     "showTitle": false,
     "tableResultSettingsMap": {},
     "title": ""
    }
   },
   "outputs": [],
   "source": [
    "%run ./setup"
   ]
  },
  {
   "cell_type": "code",
   "execution_count": 0,
   "metadata": {
    "application/vnd.databricks.v1+cell": {
     "cellMetadata": {
      "byteLimit": 2048000,
      "rowLimit": 10000
     },
     "inputWidgets": {},
     "nuid": "f66b4081-c4ab-4fd8-86d2-909047ab2260",
     "showTitle": false,
     "tableResultSettingsMap": {},
     "title": ""
    }
   },
   "outputs": [],
   "source": [
    "rawDataVolume='dbfs:/Volumes/dbacademy/labuser9128531_1739377194/retail/'"
   ]
  },
  {
   "cell_type": "code",
   "execution_count": 0,
   "metadata": {
    "application/vnd.databricks.v1+cell": {
     "cellMetadata": {
      "byteLimit": 2048000,
      "rowLimit": 10000
     },
     "inputWidgets": {},
     "nuid": "260e2ae5-c751-4058-b13d-4ef8e1f9d430",
     "showTitle": false,
     "tableResultSettingsMap": {},
     "title": ""
    }
   },
   "outputs": [],
   "source": [
    "userRawDataVolume = rawDataVolume + '/users'\n",
    "print('User raw data under folder: ' + userRawDataVolume)\n",
    " #Listing the files under the directory\n",
    "for fileInfo in dbutils.fs.ls(userRawDataVolume): print(fileInfo.name)"
   ]
  },
  {
   "cell_type": "code",
   "execution_count": 0,
   "metadata": {
    "application/vnd.databricks.v1+cell": {
     "cellMetadata": {
      "byteLimit": 2048000,
      "rowLimit": 10000
     },
     "inputWidgets": {},
     "nuid": "4857e951-c3a4-401e-bb55-9db3de6d79d6",
     "showTitle": false,
     "tableResultSettingsMap": {},
     "title": ""
    }
   },
   "outputs": [],
   "source": [
    "display(dbutils.fs.ls(rawDataVolume+\"/orders\"))"
   ]
  },
  {
   "cell_type": "code",
   "execution_count": 0,
   "metadata": {
    "application/vnd.databricks.v1+cell": {
     "cellMetadata": {
      "byteLimit": 2048000,
      "implicitDf": true,
      "rowLimit": 10000
     },
     "inputWidgets": {},
     "nuid": "01ab4dae-081b-4383-a653-1022ac1e4891",
     "showTitle": false,
     "tableResultSettingsMap": {},
     "title": ""
    }
   },
   "outputs": [],
   "source": [
    "%sql\n",
    "SELECT * FROM json.`/Volumes/dbacademy/labuser9128531_1739377194/retail/users`"
   ]
  },
  {
   "cell_type": "markdown",
   "metadata": {
    "application/vnd.databricks.v1+cell": {
     "cellMetadata": {},
     "inputWidgets": {},
     "nuid": "ca891983-2d94-47b6-a79a-914e69361dff",
     "showTitle": false,
     "tableResultSettingsMap": {},
     "title": ""
    }
   },
   "source": [
    "## Ingest raw JSON and CSV data into Bronze data layer"
   ]
  },
  {
   "cell_type": "markdown",
   "metadata": {
    "application/vnd.databricks.v1+cell": {
     "cellMetadata": {},
     "inputWidgets": {},
     "nuid": "61fff006-9c17-42c4-b71d-e4713e65cd14",
     "showTitle": false,
     "tableResultSettingsMap": {},
     "title": ""
    }
   },
   "source": [
    "Prerequisites:\n",
    "1. dbfs:/wy has been created"
   ]
  },
  {
   "cell_type": "code",
   "execution_count": 0,
   "metadata": {
    "application/vnd.databricks.v1+cell": {
     "cellMetadata": {
      "byteLimit": 2048000,
      "rowLimit": 10000
     },
     "inputWidgets": {},
     "nuid": "f583d995-dd68-4530-8487-c786539964c8",
     "showTitle": false,
     "tableResultSettingsMap": {},
     "title": ""
    }
   },
   "outputs": [],
   "source": [
    "# This directory only stores schema and checkpoints of silver data\n",
    "# the data iteself is stored in catalog.schema as delta table\n",
    "deltaTablesDirectory='dbfs:/wy/delta_tables' # string name of the directory"
   ]
  },
  {
   "cell_type": "code",
   "execution_count": 0,
   "metadata": {
    "application/vnd.databricks.v1+cell": {
     "cellMetadata": {
      "byteLimit": 2048000,
      "rowLimit": 10000
     },
     "inputWidgets": {},
     "nuid": "fa5817fa-7520-4839-862a-a6217bcc2459",
     "showTitle": false,
     "tableResultSettingsMap": {},
     "title": ""
    }
   },
   "outputs": [],
   "source": [
    "dbutils.fs.rm(\"dbfs:/wy/delta_tables/checkpoint/\", True)"
   ]
  },
  {
   "cell_type": "code",
   "execution_count": 0,
   "metadata": {
    "application/vnd.databricks.v1+cell": {
     "cellMetadata": {
      "byteLimit": 2048000,
      "rowLimit": 10000
     },
     "inputWidgets": {},
     "nuid": "2437c36b-f12c-4c8b-b4d6-462f85fd5791",
     "showTitle": false,
     "tableResultSettingsMap": {},
     "title": ""
    }
   },
   "outputs": [],
   "source": [
    "deltaTablesDirectory,rawDataVolume"
   ]
  },
  {
   "cell_type": "markdown",
   "metadata": {
    "application/vnd.databricks.v1+cell": {
     "cellMetadata": {},
     "inputWidgets": {},
     "nuid": "7b25e15b-cb10-444b-be6d-0e66cc033cd7",
     "showTitle": false,
     "tableResultSettingsMap": {},
     "title": ""
    }
   },
   "source": [
    "### Ingestion"
   ]
  },
  {
   "cell_type": "markdown",
   "metadata": {
    "application/vnd.databricks.v1+cell": {
     "cellMetadata": {},
     "inputWidgets": {},
     "nuid": "48c32157-717c-4deb-9dc2-fefa62d2f6c6",
     "showTitle": false,
     "tableResultSettingsMap": {},
     "title": ""
    }
   },
   "source": [
    "add three delta tables in unity catalog"
   ]
  },
  {
   "cell_type": "code",
   "execution_count": 0,
   "metadata": {
    "application/vnd.databricks.v1+cell": {
     "cellMetadata": {
      "byteLimit": 2048000,
      "rowLimit": 10000
     },
     "inputWidgets": {},
     "nuid": "43d2b2e1-c8cc-43e9-8951-9e3126f248c9",
     "showTitle": false,
     "tableResultSettingsMap": {},
     "title": ""
    }
   },
   "outputs": [],
   "source": [
    "def ingest_folder(folder, data_format, table):\n",
    "  bronze_products = (spark.readStream\n",
    "                      .format(\"cloudFiles\")\n",
    "                      .option(\"cloudFiles.format\", data_format)\n",
    "                      .option(\"cloudFiles.inferColumnTypes\", \"true\")\n",
    "                      .option(\"cloudFiles.schemaLocation\",\n",
    "                              f\"{deltaTablesDirectory}/schema/{table}\") #Autoloader will automatically infer all the schema & evolution\n",
    "                      .load(folder)) # vol folder that has row data\n",
    "  return (bronze_products.writeStream\n",
    "            .option(\"checkpointLocation\",\n",
    "                    f\"{deltaTablesDirectory}/checkpoint/{table}\") #exactly once delivery on Delta tables over restart/kill\n",
    "            .option(\"mergeSchema\", \"true\") #merge any new column dynamically\n",
    "            .trigger(once = True) #Remove for real time streaming\n",
    "            .table(table)) #Table will be created if we haven't specified the schema first\n",
    "  \n",
    "#ingest data from a volume, returned table is stored in the same catalog.schema  \n",
    "ingest_folder(rawDataVolume + '/orders', 'json', 'churn_orders_bronze')\n",
    "ingest_folder(rawDataVolume + '/events', 'csv', 'churn_app_events')\n",
    "ingest_folder(rawDataVolume + '/users', 'json',  'churn_users_bronze').awaitTermination()"
   ]
  },
  {
   "cell_type": "markdown",
   "metadata": {
    "application/vnd.databricks.v1+cell": {
     "cellMetadata": {},
     "inputWidgets": {},
     "nuid": "a38af79a-29d3-4c97-90e1-a097532f7de6",
     "showTitle": false,
     "tableResultSettingsMap": {},
     "title": ""
    }
   },
   "source": [
    "### Check Bronze tables in unity catalog"
   ]
  },
  {
   "cell_type": "code",
   "execution_count": 0,
   "metadata": {
    "application/vnd.databricks.v1+cell": {
     "cellMetadata": {
      "byteLimit": 2048000,
      "implicitDf": true,
      "rowLimit": 10000
     },
     "inputWidgets": {},
     "nuid": "410a8f7c-aae6-4da7-ae14-5b368e5ec134",
     "showTitle": false,
     "tableResultSettingsMap": {},
     "title": ""
    }
   },
   "outputs": [],
   "source": [
    "%sql \n",
    "-- Note the \"_rescued_data\" column. If we receive wrong data not matching existing schema, it will be stored here\n",
    "select * from churn_users_bronze;"
   ]
  },
  {
   "cell_type": "code",
   "execution_count": 0,
   "metadata": {
    "application/vnd.databricks.v1+cell": {
     "cellMetadata": {
      "byteLimit": 2048000,
      "rowLimit": 10000
     },
     "inputWidgets": {},
     "nuid": "0583101b-9d12-4c2d-8e71-65f1209985b1",
     "showTitle": true,
     "tableResultSettingsMap": {},
     "title": "Check the directory"
    }
   },
   "outputs": [],
   "source": [
    "%fs ls dbfs:/Volumes/dbacademy/labuser9128531_1739377194/retail/"
   ]
  },
  {
   "cell_type": "code",
   "execution_count": 0,
   "metadata": {
    "application/vnd.databricks.v1+cell": {
     "cellMetadata": {
      "byteLimit": 2048000,
      "rowLimit": 10000
     },
     "inputWidgets": {},
     "nuid": "f7e25fb6-af34-4d84-81c0-572dee8f8eeb",
     "showTitle": false,
     "tableResultSettingsMap": {},
     "title": ""
    }
   },
   "outputs": [],
   "source": [
    "display(dbutils.fs.ls('dbfs:/wy/delta_tables/'))"
   ]
  },
  {
   "cell_type": "code",
   "execution_count": 0,
   "metadata": {
    "application/vnd.databricks.v1+cell": {
     "cellMetadata": {
      "byteLimit": 2048000,
      "rowLimit": 10000
     },
     "inputWidgets": {},
     "nuid": "b512039b-0611-4bf6-945d-e6f47a21e105",
     "showTitle": false,
     "tableResultSettingsMap": {},
     "title": ""
    }
   },
   "outputs": [],
   "source": [
    "%fs ls dbfs:/wy/delta_tables/schema/"
   ]
  },
  {
   "cell_type": "markdown",
   "metadata": {
    "application/vnd.databricks.v1+cell": {
     "cellMetadata": {},
     "inputWidgets": {},
     "nuid": "1a217ea2-acde-43cd-9dcd-51c7b237eb62",
     "showTitle": false,
     "tableResultSettingsMap": {},
     "title": ""
    }
   },
   "source": [
    "## Create silver level "
   ]
  },
  {
   "cell_type": "markdown",
   "metadata": {
    "application/vnd.databricks.v1+cell": {
     "cellMetadata": {},
     "inputWidgets": {},
     "nuid": "2c857eb5-706f-4621-95f9-201b35eb2d13",
     "showTitle": false,
     "tableResultSettingsMap": {},
     "title": ""
    }
   },
   "source": [
    "saved the bronze tables to the same catalog.schema"
   ]
  },
  {
   "cell_type": "markdown",
   "metadata": {
    "application/vnd.databricks.v1+cell": {
     "cellMetadata": {},
     "inputWidgets": {},
     "nuid": "62f4a737-6d1d-4f12-84da-d864a53639b5",
     "showTitle": false,
     "tableResultSettingsMap": {},
     "title": ""
    }
   },
   "source": [
    "### Create churn user in the catalog.schema"
   ]
  },
  {
   "cell_type": "markdown",
   "metadata": {
    "application/vnd.databricks.v1+cell": {
     "cellMetadata": {},
     "inputWidgets": {},
     "nuid": "e8b53419-a24c-4972-b2da-cff5cb5b7acc",
     "showTitle": false,
     "tableResultSettingsMap": {},
     "title": ""
    }
   },
   "source": [
    "add two more tables in unity catalog"
   ]
  },
  {
   "cell_type": "code",
   "execution_count": 0,
   "metadata": {
    "application/vnd.databricks.v1+cell": {
     "cellMetadata": {
      "byteLimit": 2048000,
      "rowLimit": 10000
     },
     "inputWidgets": {},
     "nuid": "582f65a6-b4d3-4143-8dcd-984c685d1130",
     "showTitle": false,
     "tableResultSettingsMap": {},
     "title": ""
    }
   },
   "outputs": [],
   "source": [
    "from pyspark.sql.functions import sha1, col, initcap, to_timestamp\n",
    "\n",
    "(spark.readStream\n",
    "        .table(\"churn_users_bronze\")\n",
    "        .withColumnRenamed(\"id\", \"user_id\")\n",
    "        .withColumn(\"email\", sha1(col(\"email\")))\n",
    "        .withColumn(\"creation_date\", to_timestamp(col(\"creation_date\"), \"MM-dd-yyyy H:mm:ss\"))\n",
    "        .withColumn(\"last_activity_date\", to_timestamp(col(\"last_activity_date\"), \"MM-dd-yyyy HH:mm:ss\"))\n",
    "        .withColumn(\"firstname\", initcap(col(\"firstname\")))\n",
    "        .withColumn(\"lastname\", initcap(col(\"lastname\")))\n",
    "        .withColumn(\"age_group\", col(\"age_group\").cast('int'))\n",
    "        .withColumn(\"gender\", col(\"gender\").cast('int'))\n",
    "        # .drop(col(\"churn\")) # should not drop label\n",
    "        .drop(col(\"_rescued_data\"))\n",
    "      .writeStream\n",
    "        .option(\"checkpointLocation\", f\"{deltaTablesDirectory}/checkpoint/users\")\n",
    "        .trigger(once=True)\n",
    "        .table(\"churn_users\").awaitTermination())"
   ]
  },
  {
   "cell_type": "code",
   "execution_count": 0,
   "metadata": {
    "application/vnd.databricks.v1+cell": {
     "cellMetadata": {
      "byteLimit": 2048000,
      "implicitDf": true,
      "rowLimit": 10000
     },
     "inputWidgets": {},
     "nuid": "73eec29f-7a12-4cc9-84a5-097dcb2fd3c7",
     "showTitle": false,
     "tableResultSettingsMap": {},
     "title": ""
    }
   },
   "outputs": [],
   "source": [
    "%sql select * from churn_users;"
   ]
  },
  {
   "cell_type": "code",
   "execution_count": 0,
   "metadata": {
    "application/vnd.databricks.v1+cell": {
     "cellMetadata": {
      "byteLimit": 2048000,
      "rowLimit": 10000
     },
     "inputWidgets": {},
     "nuid": "f83b289f-3700-4b21-8b88-44827ec0b29f",
     "showTitle": false,
     "tableResultSettingsMap": {},
     "title": ""
    }
   },
   "outputs": [],
   "source": [
    "(spark.readStream \n",
    "        .table(\"churn_orders_bronze\")\n",
    "        .withColumnRenamed(\"id\", \"order_id\")\n",
    "        .withColumn(\"amount\", col(\"amount\").cast('int'))\n",
    "        .withColumn(\"item_count\", col(\"item_count\").cast('int'))\n",
    "        .withColumn(\"creation_date\", to_timestamp(col(\"transaction_date\"), \"MM-dd-yyyy H:mm:ss\"))\n",
    "        .drop(col(\"_rescued_data\"))\n",
    "      .writeStream\n",
    "        .option(\"checkpointLocation\", f\"{deltaTablesDirectory}/checkpoint/orders\")\n",
    "        .trigger(once=True)\n",
    "        .table(\"churn_orders\").awaitTermination())"
   ]
  },
  {
   "cell_type": "code",
   "execution_count": 0,
   "metadata": {
    "application/vnd.databricks.v1+cell": {
     "cellMetadata": {
      "byteLimit": 2048000,
      "implicitDf": true,
      "rowLimit": 10000
     },
     "inputWidgets": {},
     "nuid": "4b7c9714-bfe3-4e5a-a380-f7f9f7025854",
     "showTitle": false,
     "tableResultSettingsMap": {},
     "title": ""
    }
   },
   "outputs": [],
   "source": [
    "%sql select * from churn_orders;"
   ]
  },
  {
   "cell_type": "code",
   "execution_count": 0,
   "metadata": {
    "application/vnd.databricks.v1+cell": {
     "cellMetadata": {
      "byteLimit": 2048000,
      "implicitDf": true,
      "rowLimit": 10000
     },
     "inputWidgets": {},
     "nuid": "2d1871da-871e-4920-a484-d2be8c857596",
     "showTitle": false,
     "tableResultSettingsMap": {},
     "title": ""
    }
   },
   "outputs": [],
   "source": [
    "%sql select * from churn_orders;"
   ]
  },
  {
   "cell_type": "markdown",
   "metadata": {
    "application/vnd.databricks.v1+cell": {
     "cellMetadata": {},
     "inputWidgets": {},
     "nuid": "c65f667f-8e0f-4460-be70-f3998469c859",
     "showTitle": false,
     "tableResultSettingsMap": {},
     "title": ""
    }
   },
   "source": [
    "## Create gold layer"
   ]
  },
  {
   "cell_type": "markdown",
   "metadata": {
    "application/vnd.databricks.v1+cell": {
     "cellMetadata": {},
     "inputWidgets": {},
     "nuid": "1044315d-2af3-4a43-bbc8-625bc8029f10",
     "showTitle": false,
     "tableResultSettingsMap": {},
     "title": ""
    }
   },
   "source": [
    "prerequisites:\n",
    "catalog and schema are set up"
   ]
  },
  {
   "cell_type": "code",
   "execution_count": 0,
   "metadata": {
    "application/vnd.databricks.v1+cell": {
     "cellMetadata": {
      "byteLimit": 2048000,
      "rowLimit": 10000
     },
     "inputWidgets": {},
     "nuid": "32cfe777-6389-422a-ba86-a7a5749d1ca0",
     "showTitle": false,
     "tableResultSettingsMap": {},
     "title": ""
    }
   },
   "outputs": [],
   "source": [
    "spark.sql(\n",
    "  \"\"\"\n",
    "    CREATE OR REPLACE TABLE churn_features AS\n",
    "      WITH\n",
    "        churn_orders_stats AS (\n",
    "          SELECT\n",
    "            user_id,\n",
    "            count(*) as order_count,\n",
    "            sum(amount) as total_amount,\n",
    "            sum(item_count) as total_item,\n",
    "            max(creation_date) as last_transaction\n",
    "          FROM churn_orders\n",
    "          GROUP BY user_id\n",
    "        ),  \n",
    "        churn_app_events_stats AS (\n",
    "          SELECT\n",
    "            first(platform) as platform,\n",
    "            user_id,\n",
    "            count(*) as event_count,\n",
    "            count(distinct session_id) as session_count,\n",
    "            max(to_timestamp(date, \"MM-dd-yyyy HH:mm:ss\")) as last_event\n",
    "          FROM churn_app_events GROUP BY user_id\n",
    "        )\n",
    "        SELECT\n",
    "          *, \n",
    "          datediff(now(), creation_date) as days_since_creation,\n",
    "          datediff(now(), last_activity_date) as days_since_last_activity,\n",
    "          datediff(now(), last_event) as days_last_event\n",
    "        FROM churn_users\n",
    "        INNER JOIN churn_orders_stats using (user_id)\n",
    "        INNER JOIN churn_app_events_stats using (user_id)\n",
    "  \"\"\"\n",
    ")\n",
    "\n",
    "display(spark.table(\"churn_features\"))"
   ]
  },
  {
   "cell_type": "markdown",
   "metadata": {
    "application/vnd.databricks.v1+cell": {
     "cellMetadata": {},
     "inputWidgets": {},
     "nuid": "1a3b96d5-7c19-49df-9d47-e00f6ce2fb92",
     "showTitle": false,
     "tableResultSettingsMap": {},
     "title": ""
    }
   },
   "source": [
    "## Optimize the delta table"
   ]
  },
  {
   "cell_type": "code",
   "execution_count": 0,
   "metadata": {
    "application/vnd.databricks.v1+cell": {
     "cellMetadata": {
      "byteLimit": 2048000,
      "implicitDf": true,
      "rowLimit": 10000
     },
     "inputWidgets": {},
     "nuid": "85a979ef-f41b-496c-b4c4-7964cd537389",
     "showTitle": true,
     "tableResultSettingsMap": {},
     "title": "Ensuring that all our tables are storage-optimized"
    }
   },
   "outputs": [],
   "source": [
    "%sql\n",
    "ALTER TABLE churn_users    SET TBLPROPERTIES (delta.autooptimize.optimizewrite = TRUE, delta.autooptimize.autocompact = TRUE );\n",
    "ALTER TABLE churn_orders   SET TBLPROPERTIES (delta.autooptimize.optimizewrite = TRUE, delta.autooptimize.autocompact = TRUE );\n",
    "ALTER TABLE churn_features SET TBLPROPERTIES (delta.autooptimize.optimizewrite = TRUE, delta.autooptimize.autocompact = TRUE );"
   ]
  },
  {
   "cell_type": "code",
   "execution_count": 0,
   "metadata": {
    "application/vnd.databricks.v1+cell": {
     "cellMetadata": {
      "byteLimit": 2048000,
      "implicitDf": true,
      "rowLimit": 10000
     },
     "inputWidgets": {},
     "nuid": "154a0091-2431-4e1b-aed2-7e2b763580b9",
     "showTitle": true,
     "tableResultSettingsMap": {},
     "title": "Our user table will be queried mostly by 3 fields; let's optimize the table for that!"
    }
   },
   "outputs": [],
   "source": [
    "%sql\n",
    "OPTIMIZE churn_users ZORDER BY user_id, firstname, lastname"
   ]
  }
 ],
 "metadata": {
  "application/vnd.databricks.v1+notebook": {
   "computePreferences": null,
   "dashboards": [],
   "environmentMetadata": {
    "base_environment": "",
    "environment_version": "2"
   },
   "language": "python",
   "notebookMetadata": {
    "mostRecentlyExecutedCommandWithImplicitDF": {
     "commandId": 4678823810711038,
     "dataframes": [
      "_sqldf"
     ]
    },
    "pythonIndentUnit": 4
   },
   "notebookName": "DataEngineering",
   "widgets": {}
  },
  "language_info": {
   "name": "python"
  }
 },
 "nbformat": 4,
 "nbformat_minor": 0
}
