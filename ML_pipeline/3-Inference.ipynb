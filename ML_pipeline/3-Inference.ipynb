{
 "cells": [
  {
   "cell_type": "code",
   "execution_count": 0,
   "metadata": {
    "application/vnd.databricks.v1+cell": {
     "cellMetadata": {
      "byteLimit": 2048000,
      "rowLimit": 10000
     },
     "inputWidgets": {},
     "nuid": "355f6f60-484d-4a40-8bc0-c3cb8afe56aa",
     "showTitle": false,
     "tableResultSettingsMap": {},
     "title": ""
    }
   },
   "outputs": [],
   "source": [
    "%run ./include/setup"
   ]
  },
  {
   "cell_type": "markdown",
   "metadata": {
    "application/vnd.databricks.v1+cell": {
     "cellMetadata": {},
     "inputWidgets": {},
     "nuid": "d9d15b74-7b1d-4dd3-8916-a48fad94a6a5",
     "showTitle": false,
     "tableResultSettingsMap": {},
     "title": ""
    }
   },
   "source": [
    "## Load model"
   ]
  },
  {
   "cell_type": "markdown",
   "metadata": {
    "application/vnd.databricks.v1+cell": {
     "cellMetadata": {},
     "inputWidgets": {},
     "nuid": "5872bc45-b56a-4d0a-9509-efcbd30e8631",
     "showTitle": false,
     "tableResultSettingsMap": {},
     "title": ""
    }
   },
   "source": [
    "Retrieve model form 'Models'"
   ]
  },
  {
   "cell_type": "markdown",
   "metadata": {
    "application/vnd.databricks.v1+cell": {
     "cellMetadata": {},
     "inputWidgets": {},
     "nuid": "5e5d0565-6144-44ae-88a2-d988ccb4ef82",
     "showTitle": false,
     "tableResultSettingsMap": {},
     "title": ""
    }
   },
   "source": [
    "From UI to copy the model name from : dbacademy.labuser9128531_1738705451.rf2"
   ]
  },
  {
   "cell_type": "code",
   "execution_count": 0,
   "metadata": {
    "application/vnd.databricks.v1+cell": {
     "cellMetadata": {
      "byteLimit": 2048000,
      "rowLimit": 10000
     },
     "inputWidgets": {},
     "nuid": "74d9916e-346f-4eb4-a905-f96ac0546aab",
     "showTitle": true,
     "tableResultSettingsMap": {},
     "title": "Load model"
    }
   },
   "outputs": [],
   "source": [
    "import mlflow\n",
    "#                                      Stage/version\n",
    "#                       Model name          |              output\n",
    "#                           |               |                 |\n",
    "mlflow.set_registry_uri('databricks-uc') #This sets the URI for the MLflow Model Registry to be the Databricks Unity Catalog (databricks-uc).\n",
    "modelURL = \"models:/\" + 'dbacademy.labuser9128531_1739377194.rf2' + \"@production\"   #show stage or version is production \n",
    "print(\"Retrieving model \" + modelURL) #references a model in the MLflow Model Registry\n",
    "#\"int\" indicates that the model is expected to return an integer output (e.g., class label prediction, such as churn or no churn)\n",
    "predict_churn_udf = mlflow.pyfunc.spark_udf(spark, modelURL, \"int\") #Convert Model to Spark UDF (User-Defined Function)\n",
    "#This registers the UDF with Spark SQL, so you can now use the predict_churn function in Spark SQL queries.\n",
    "spark.udf.register(\"predict_churn\", predict_churn_udf)"
   ]
  },
  {
   "cell_type": "markdown",
   "metadata": {
    "application/vnd.databricks.v1+cell": {
     "cellMetadata": {},
     "inputWidgets": {},
     "nuid": "b3bbd807-ec66-4bc7-b275-f12478e567b7",
     "showTitle": false,
     "tableResultSettingsMap": {},
     "title": ""
    }
   },
   "source": [
    "## test if featuresfrom new data matches with feature store data schema"
   ]
  },
  {
   "cell_type": "code",
   "execution_count": 0,
   "metadata": {
    "application/vnd.databricks.v1+cell": {
     "cellMetadata": {
      "byteLimit": 2048000,
      "rowLimit": 10000
     },
     "inputWidgets": {},
     "nuid": "53897d1d-67ff-47ac-b2a3-17220d9642c1",
     "showTitle": true,
     "tableResultSettingsMap": {},
     "title": "check col name"
    }
   },
   "outputs": [],
   "source": [
    "# Check the schema of the DataFrame to ensure column names match\n",
    "df = spark.table('churn_features')\n",
    "df.printSchema()\n",
    "\n",
    "# Extract the list of input features (columns) that the model expects as input\n",
    "model_features = predict_churn_udf.metadata.get_input_schema().input_names()\n",
    "\n",
    "# Ensure the column names in the DataFrame match the expected input features\n",
    "for feature in model_features:\n",
    "    if feature not in df.columns:\n",
    "        raise ValueError(f\"Column {feature} not found in DataFrame\")"
   ]
  },
  {
   "cell_type": "code",
   "execution_count": 0,
   "metadata": {
    "application/vnd.databricks.v1+cell": {
     "cellMetadata": {
      "byteLimit": 2048000,
      "rowLimit": 10000
     },
     "inputWidgets": {},
     "nuid": "253ad393-2f2e-40d4-90b5-66ae97386504",
     "showTitle": true,
     "tableResultSettingsMap": {},
     "title": "check col data type"
    }
   },
   "outputs": [],
   "source": [
    "#check the features that he model required and check the datatypes in the new data table\n",
    "for feature in model_features:\n",
    "    print(f\"Column: {feature}, Type: {df.schema[feature].dataType}\")"
   ]
  },
  {
   "cell_type": "code",
   "execution_count": 0,
   "metadata": {
    "application/vnd.databricks.v1+cell": {
     "cellMetadata": {
      "byteLimit": 2048000,
      "rowLimit": 10000
     },
     "inputWidgets": {},
     "nuid": "61268895-2c69-4b20-b140-3ac48b02ab00",
     "showTitle": true,
     "tableResultSettingsMap": {},
     "title": "Create final table"
    }
   },
   "outputs": [],
   "source": [
    "# This line extracts the list of input features (columns) that the model expects as input. \n",
    "model_features = predict_churn_udf.metadata.get_input_schema().input_names()\n",
    "#start with a delta table\n",
    "predictions = spark.table('churn_features').withColumn('churn_prediction', predict_churn_udf(*model_features))\n",
    "predictions.createOrReplaceTempView(\"v_churn_prediction\")"
   ]
  },
  {
   "cell_type": "code",
   "execution_count": 0,
   "metadata": {
    "application/vnd.databricks.v1+cell": {
     "cellMetadata": {
      "byteLimit": 2048000,
      "rowLimit": 10000
     },
     "inputWidgets": {},
     "nuid": "dca26820-8713-41de-941c-630294317b31",
     "showTitle": false,
     "tableResultSettingsMap": {},
     "title": ""
    }
   },
   "outputs": [],
   "source": [
    "# Save the predictions to a Delta table\n",
    "predictions.write.format(\"delta\").mode(\"overwrite\").saveAsTable(\"churn_prediction\")"
   ]
  },
  {
   "cell_type": "code",
   "execution_count": 0,
   "metadata": {
    "application/vnd.databricks.v1+cell": {
     "cellMetadata": {
      "byteLimit": 2048000,
      "implicitDf": true,
      "rowLimit": 10000
     },
     "inputWidgets": {},
     "nuid": "abca35b5-ddfd-411e-bfaf-d3e0e25b2394",
     "showTitle": false,
     "tableResultSettingsMap": {},
     "title": ""
    }
   },
   "outputs": [],
   "source": [
    "%sql\n",
    "-- create or replace table churn_prediction as select * from v_churn_prediction"
   ]
  },
  {
   "cell_type": "code",
   "execution_count": 0,
   "metadata": {
    "application/vnd.databricks.v1+cell": {
     "cellMetadata": {
      "byteLimit": 2048000,
      "implicitDf": true,
      "rowLimit": 10000
     },
     "inputWidgets": {},
     "nuid": "506f948f-f129-46bb-9f76-ac4946bb4e0d",
     "showTitle": false,
     "tableResultSettingsMap": {},
     "title": ""
    }
   },
   "outputs": [],
   "source": [
    "%sql\n",
    "select * from churn_prediction"
   ]
  }
 ],
 "metadata": {
  "application/vnd.databricks.v1+notebook": {
   "computePreferences": null,
   "dashboards": [],
   "environmentMetadata": {
    "base_environment": "",
    "environment_version": "2"
   },
   "language": "python",
   "notebookMetadata": {
    "mostRecentlyExecutedCommandWithImplicitDF": {
     "commandId": 8999236800760178,
     "dataframes": [
      "_sqldf"
     ]
    },
    "pythonIndentUnit": 4
   },
   "notebookName": "3-Inference",
   "widgets": {}
  },
  "language_info": {
   "name": "python"
  }
 },
 "nbformat": 4,
 "nbformat_minor": 0
}
